{
 "cells": [
  {
   "cell_type": "code",
   "execution_count": null,
   "id": "f61d4f41",
   "metadata": {},
   "outputs": [],
   "source": [
    "%load_ext autoreload\n",
    "%autoreload 2"
   ]
  },
  {
   "cell_type": "code",
   "execution_count": null,
   "id": "588c89bf",
   "metadata": {},
   "outputs": [],
   "source": [
    "import json\n",
    "import os\n",
    "\n",
    "from IPython.display import display, Markdown"
   ]
  },
  {
   "cell_type": "code",
   "execution_count": null,
   "id": "25bf0ff7",
   "metadata": {},
   "outputs": [],
   "source": [
    "base_dir = '../data'\n",
    "filename = '1980-04-he-is-not-here-he-is-risen.json'"
   ]
  },
  {
   "cell_type": "code",
   "execution_count": null,
   "id": "c8526e22",
   "metadata": {},
   "outputs": [],
   "source": [
    "path = os.path.join(base_dir, filename)\n",
    "with open(path) as f:\n",
    "    data = json.load(f)"
   ]
  },
  {
   "cell_type": "code",
   "execution_count": null,
   "id": "71cf1427",
   "metadata": {},
   "outputs": [],
   "source": [
    "print(data['title'])\n",
    "print(data['author'])\n",
    "print(data['author_role'])\n",
    "display(Markdown(data['content']))"
   ]
  },
  {
   "cell_type": "code",
   "execution_count": null,
   "id": "bba3e955",
   "metadata": {},
   "outputs": [],
   "source": []
  }
 ],
 "metadata": {
  "kernelspec": {
   "display_name": "enrichify",
   "language": "python",
   "name": "enrichify"
  },
  "language_info": {
   "codemirror_mode": {
    "name": "ipython",
    "version": 3
   },
   "file_extension": ".py",
   "mimetype": "text/x-python",
   "name": "python",
   "nbconvert_exporter": "python",
   "pygments_lexer": "ipython3",
   "version": "3.10.6"
  }
 },
 "nbformat": 4,
 "nbformat_minor": 5
}
