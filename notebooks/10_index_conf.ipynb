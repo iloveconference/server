{
 "cells": [
  {
   "cell_type": "code",
   "execution_count": null,
   "metadata": {},
   "outputs": [],
   "source": [
    "%load_ext autoreload\n",
    "%autoreload 2\n",
    "%load_ext dotenv\n",
    "%dotenv"
   ]
  },
  {
   "cell_type": "code",
   "execution_count": null,
   "metadata": {},
   "outputs": [],
   "source": [
    "import json\n",
    "import os\n",
    "import re\n",
    "\n",
    "import openai\n",
    "import pinecone\n",
    "from tqdm.auto import tqdm"
   ]
  },
  {
   "cell_type": "code",
   "execution_count": null,
   "metadata": {},
   "outputs": [],
   "source": [
    "# configure\n",
    "data_dir = '../data/interim'\n",
    "\n",
    "pinecone_key = os.environ['PINECONE_KEY']\n",
    "pinecone_region = 'us-west1-gcp'\n",
    "pinecone_index = 'conf-ada-002'\n",
    "pinecone_batch_size = 32\n",
    "\n",
    "openai.organization = os.environ['OPENAI_ORG']\n",
    "openai.api_key = os.environ['OPENAI_KEY']\n",
    "\n",
    "embedding_model = 'text-embedding-ada-002'\n",
    "embedding_len = 1536"
   ]
  },
  {
   "cell_type": "code",
   "execution_count": null,
   "metadata": {},
   "outputs": [],
   "source": [
    "# check we have authenticated with openai\n",
    "openai.Engine.list()"
   ]
  },
  {
   "cell_type": "code",
   "execution_count": null,
   "metadata": {},
   "outputs": [],
   "source": [
    "# create pinecone index\n",
    "pinecone.init(\n",
    "    api_key=pinecone_key,\n",
    "    environment=pinecone_region,\n",
    ")\n",
    "# check if index already exists (only create index if not)\n",
    "if pinecone_index not in pinecone.list_indexes():\n",
    "    pinecone.create_index(pinecone_index, dimension=embedding_len)\n",
    "# connect to index\n",
    "index = pinecone.Index(pinecone_index)"
   ]
  },
  {
   "cell_type": "markdown",
   "metadata": {},
   "source": [
    "## Read and prepare conference talks"
   ]
  },
  {
   "cell_type": "code",
   "execution_count": null,
   "metadata": {},
   "outputs": [],
   "source": [
    "def _clean(text):\n",
    "    # remove headers\n",
    "    text = re.sub(r'[^\\n]+\\n-{4,}(\\n|$)', '', text)\n",
    "    # remove images\n",
    "    text = re.sub(r'!\\[\\]\\(\\)\\s+Image[^\\n]+\\n', '', text)\n",
    "    # remove links\n",
    "    text = re.sub(r'\\[[^\\]]+\\]\\([^\\)]+\\)', '', text)\n",
    "    # remove newlines, tabs, and extra spaces\n",
    "    text = text.replace('\\n', ' ').replace('\\t', ' ').replace('\\r', ' ').strip()\n",
    "    return text\n",
    "\n",
    "\n",
    "def get_paragraphs(contents):\n",
    "    for paragraph in contents.split('\\n\\n\\n'):\n",
    "        paragraph = _clean(paragraph)\n",
    "        if not paragraph:\n",
    "            continue\n",
    "        yield paragraph"
   ]
  },
  {
   "cell_type": "code",
   "execution_count": null,
   "metadata": {},
   "outputs": [],
   "source": [
    "# read conf talks\n",
    "contents = []\n",
    "for filename in (os.path.join(data_dir, f)\n",
    "                 for f in os.listdir(data_dir) if os.path.isfile(os.path.join(data_dir, f))):\n",
    "    with open(filename, 'r') as f:\n",
    "        data = json.load(f)\n",
    "        for paragraph in get_paragraphs(data['content']):\n",
    "            contents.append({\n",
    "                'year': data['year'],\n",
    "                'month': data['month'],\n",
    "                'url': data['url'],\n",
    "                'title': data['title'],\n",
    "                'author': data['author'],\n",
    "                'text': paragraph,\n",
    "            })\n",
    "len(contents)"
   ]
  },
  {
   "cell_type": "markdown",
   "metadata": {},
   "source": [
    "## Get embeddings for and index conference talks"
   ]
  },
  {
   "cell_type": "code",
   "execution_count": null,
   "metadata": {
    "pycharm": {
     "is_executing": true
    }
   },
   "outputs": [],
   "source": [
    "# index conf talks\n",
    "count = 0  # we'll use the count to create unique IDs\n",
    "for i in tqdm(range(0, len(contents), pinecone_batch_size)):\n",
    "    # set end position of batch\n",
    "    i_end = min(i+pinecone_batch_size, len(contents))\n",
    "    # get batch of lines and IDs\n",
    "    contents_batch = contents[i: i+pinecone_batch_size]\n",
    "    lines_batch = [content['text'] for content in contents_batch]\n",
    "    ids_batch = [str(n) for n in range(i, i_end)]\n",
    "    # create embeddings\n",
    "    res = openai.Embedding.create(input=lines_batch, engine=embedding_model)\n",
    "    embeds = [record['embedding'] for record in res['data']]\n",
    "    # upsert batch\n",
    "    to_upsert = zip(ids_batch, embeds, contents_batch)\n",
    "    # upsert to Pinecone\n",
    "    index.upsert(vectors=list(to_upsert))"
   ]
  },
  {
   "cell_type": "markdown",
   "metadata": {},
   "source": [
    "## Test index"
   ]
  },
  {
   "cell_type": "code",
   "execution_count": null,
   "metadata": {
    "pycharm": {
     "is_executing": true
    }
   },
   "outputs": [],
   "source": [
    "# create embedding for query\n",
    "query = \"What does the Lord want me to do?\"\n",
    "\n",
    "query_embedding = openai.Embedding.create(input=query, engine=embedding_model)['data'][0]['embedding']"
   ]
  },
  {
   "cell_type": "code",
   "execution_count": null,
   "metadata": {
    "pycharm": {
     "is_executing": true
    }
   },
   "outputs": [],
   "source": [
    "# query pinecone\n",
    "res = index.query([query_embedding], top_k=5, include_metadata=True)\n",
    "res"
   ]
  },
  {
   "cell_type": "code",
   "execution_count": null,
   "metadata": {},
   "outputs": [],
   "source": []
  }
 ],
 "metadata": {
  "kernelspec": {
   "display_name": "ilc-server",
   "language": "python",
   "name": "ilc-server"
  },
  "language_info": {
   "codemirror_mode": {
    "name": "ipython",
    "version": 2
   },
   "file_extension": ".py",
   "mimetype": "text/x-python",
   "name": "python",
   "nbconvert_exporter": "python",
   "pygments_lexer": "ipython2",
   "version": "2.7.6"
  }
 },
 "nbformat": 4,
 "nbformat_minor": 0
}
